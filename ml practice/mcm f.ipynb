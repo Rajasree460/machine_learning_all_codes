{
 "cells": [
  {
   "cell_type": "code",
   "execution_count": 1,
   "id": "382cdcd2-ae4d-41c8-a7b5-19ba6a0ba230",
   "metadata": {},
   "outputs": [
    {
     "name": "stdin",
     "output_type": "stream",
     "text": [
      "enter the no. of dims: 5\n"
     ]
    },
    {
     "name": "stdout",
     "output_type": "stream",
     "text": [
      "\n",
      "enter the dims\n"
     ]
    },
    {
     "name": "stdin",
     "output_type": "stream",
     "text": [
      " 10\n",
      " 100\n",
      " 20\n",
      " 5\n",
      " 80\n"
     ]
    },
    {
     "name": "stdout",
     "output_type": "stream",
     "text": [
      "\n",
      "the dim array is: [10, 100, 20, 5, 80]\n",
      "\n",
      "M:\n",
      "[0, 0, 0, 0]\n",
      "[20000, 10000, 8000]\n",
      "[15000, 50000]\n",
      "[19000]\n",
      "\n",
      "S:\n",
      "[1, 2, 3]\n",
      "[1, 3]\n",
      "[3]\n",
      "\n",
      "optimal parenthesization:\n",
      "((A1(A2A3))A4)\n",
      "\n",
      "min no. os muls: 19000\n"
     ]
    }
   ],
   "source": [
    "#mcm dp\n",
    "\n",
    "def PrintMat(m):\n",
    "    for i in m:\n",
    "        print(i)\n",
    "\n",
    "def PrintOptimalParens(s,i,j):\n",
    "    if i==j:\n",
    "        print(f'A{i+1}',end=\"\")\n",
    "    else:\n",
    "        print(\"(\",end=\"\")\n",
    "        PrintOptimalParens(s,i,s[i][j])\n",
    "        PrintOptimalParens(s,s[i][j]+1,j)\n",
    "        print(\")\",end=\"\")\n",
    "\n",
    "def mcm(p):\n",
    "    n=len(p)-1\n",
    "    max_val=999999\n",
    "\n",
    "    m=[[0 for x in range(n)] for x in range(n)]\n",
    "    s=[[0 for x in range(n)] for x in range(n)]\n",
    "\n",
    "    for i in range(0,n):\n",
    "        m[i][i]=0\n",
    "\n",
    "    for L in range(2,n+1):\n",
    "        for i in range(0,n-L+1):\n",
    "            j=i+L-1\n",
    "            m[i][j]=max_val\n",
    "\n",
    "            for k in range(i,j):\n",
    "                q=m[i][k]+m[k+1][j]+p[i]*p[k+1]*p[j+1]\n",
    "\n",
    "                if q<m[i][j]:\n",
    "                    m[i][j]=q\n",
    "                    s[i][j]=k\n",
    "\n",
    "    #print M\n",
    "    print(\"\\nM:\")\n",
    "    mp=[[m[i][i] for i in range(0,n)]]\n",
    "\n",
    "    for L in range(1,n):\n",
    "        temp=[m[i][i+L] for i in range(0,n-L)]\n",
    "        mp.append(temp)\n",
    "\n",
    "    PrintMat(mp)\n",
    "\n",
    "    #print S\n",
    "    print(\"\\nS:\")\n",
    "    sp=[]\n",
    "\n",
    "    for L in range(1,n):\n",
    "        temp=[(s[i][i+L]+1) for i in range(0,n-L)]\n",
    "        sp.append(temp)\n",
    "\n",
    "    PrintMat(sp)\n",
    "\n",
    "    print(\"\\noptimal parenthesization:\")\n",
    "    PrintOptimalParens(s,0,n-1)\n",
    "    print()\n",
    "\n",
    "    return m[0][n-1]\n",
    "\n",
    "#main func\n",
    "n1=int(input(\"enter the no. of dims:\"))\n",
    "p=[]\n",
    "print(\"\\nenter the dims\")\n",
    "for i in range(n1):\n",
    "    l1=int(input())\n",
    "    p.append(l1)\n",
    "print(\"\\nthe dim array is:\",p)\n",
    "print(\"\\nmin no. os muls:\",mcm(p))"
   ]
  },
  {
   "cell_type": "code",
   "execution_count": null,
   "id": "eb1b2e4a-db9f-4d37-b5ce-65a085e80f67",
   "metadata": {},
   "outputs": [],
   "source": []
  }
 ],
 "metadata": {
  "kernelspec": {
   "display_name": "Python 3 (ipykernel)",
   "language": "python",
   "name": "python3"
  },
  "language_info": {
   "codemirror_mode": {
    "name": "ipython",
    "version": 3
   },
   "file_extension": ".py",
   "mimetype": "text/x-python",
   "name": "python",
   "nbconvert_exporter": "python",
   "pygments_lexer": "ipython3",
   "version": "3.12.4"
  }
 },
 "nbformat": 4,
 "nbformat_minor": 5
}
