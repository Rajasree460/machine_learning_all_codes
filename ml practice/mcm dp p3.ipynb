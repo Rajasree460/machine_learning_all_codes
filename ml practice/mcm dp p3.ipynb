{
 "cells": [
  {
   "cell_type": "code",
   "execution_count": 7,
   "id": "17f112fb-6ca5-4fe1-9336-f013530174ea",
   "metadata": {},
   "outputs": [
    {
     "name": "stdin",
     "output_type": "stream",
     "text": [
      "enter the no. of dims: 5\n"
     ]
    },
    {
     "name": "stdout",
     "output_type": "stream",
     "text": [
      "enter the dims\n"
     ]
    },
    {
     "name": "stdin",
     "output_type": "stream",
     "text": [
      " 10\n",
      " 100\n",
      " 20\n",
      " 5\n",
      " 80\n"
     ]
    },
    {
     "name": "stdout",
     "output_type": "stream",
     "text": [
      "the dim array is: [10, 100, 20, 5, 80]\n",
      "\n",
      "M:\n",
      "[0, 0, 0, 0]\n",
      "[20000, 10000, 8000]\n",
      "[15000, 50000]\n",
      "[19000]\n",
      "\n",
      "S:\n",
      "[1, 2, 3]\n",
      "[1, 3]\n",
      "[3]\n",
      "\n",
      "optimal paren:\n",
      "((A1(A2A3))A4)\n",
      "the min no. of scaler muls required is: 19000\n"
     ]
    }
   ],
   "source": [
    "#mcm dp\n",
    "\n",
    "def PrintMat(m):\n",
    "    for i in m:\n",
    "        print(i)\n",
    "\n",
    "def PrintOptimalParens(s,i,j):\n",
    "    if i==j:\n",
    "        print(f'A{i+1}',end=\"\")\n",
    "    else:\n",
    "        print(\"(\",end=\"\")\n",
    "        PrintOptimalParens(s,i,s[i][j])\n",
    "        PrintOptimalParens(s,s[i][j]+1,j)\n",
    "        print(\")\",end=\"\")\n",
    "\n",
    "def mcm(p):\n",
    "    n=len(p)-1\n",
    "    max_val=999999\n",
    "    m=[[0 for x in range(n)] for x in range(n)]\n",
    "    s=[[0 for x in range(n)] for x in range(n)]\n",
    "\n",
    "    for i in range(0,n):\n",
    "        m[i][i]=0\n",
    "\n",
    "    for L in range(2,n+1):\n",
    "        for i in range(n-L+1):\n",
    "            j=i+L-1\n",
    "            m[i][j]=max_val\n",
    "            for k in range(i,j):\n",
    "                q=m[i][k]+m[k+1][j]+p[i]*p[k+1]*p[j+1]\n",
    "                if q<m[i][j]:\n",
    "                    m[i][j]=q\n",
    "                    s[i][j]=k\n",
    "\n",
    "    mp=[[m[i][i] for i in range(0,n)]]\n",
    "    for L in range(1,n):\n",
    "        temp=[m[i][i+L] for i in range(0,n-L)]\n",
    "        mp.append(temp)\n",
    "\n",
    "    print(\"\\nM:\")\n",
    "    PrintMat(mp)\n",
    "\n",
    "    sp=[]\n",
    "    for L in range(1,n):\n",
    "        temp=[(s[i][i+L]+1) for i in range(0,n-L)]\n",
    "        sp.append(temp)\n",
    "\n",
    "    print(\"\\nS:\")\n",
    "    PrintMat(sp)\n",
    "\n",
    "    print(\"\\noptimal paren:\")\n",
    "    PrintOptimalParens(s,0,n-1)\n",
    "    print()\n",
    "\n",
    "    return m[0][n-1]\n",
    "\n",
    "\n",
    "#main func\n",
    "n1=int(input(\"enter the no. of dims:\"))\n",
    "p=[]\n",
    "print(\"enter the dims\")\n",
    "for i in range(n1):\n",
    "    l1=int(input())\n",
    "    p.append(l1)\n",
    "print(\"the dim array is:\",p)\n",
    "print(\"the min no. of scaler muls required is:\",mcm(p))"
   ]
  },
  {
   "cell_type": "code",
   "execution_count": null,
   "id": "8f5e938a-f3ad-4c8c-89d6-ef40789b783c",
   "metadata": {},
   "outputs": [],
   "source": []
  }
 ],
 "metadata": {
  "kernelspec": {
   "display_name": "Python 3 (ipykernel)",
   "language": "python",
   "name": "python3"
  },
  "language_info": {
   "codemirror_mode": {
    "name": "ipython",
    "version": 3
   },
   "file_extension": ".py",
   "mimetype": "text/x-python",
   "name": "python",
   "nbconvert_exporter": "python",
   "pygments_lexer": "ipython3",
   "version": "3.12.4"
  }
 },
 "nbformat": 4,
 "nbformat_minor": 5
}
